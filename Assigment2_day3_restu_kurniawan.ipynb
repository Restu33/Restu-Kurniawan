{
 "cells": [
  {
   "cell_type": "markdown",
   "id": "2af09c05",
   "metadata": {},
   "source": [
    "# **Assignment 2**:\n",
    "1. Buatlah notebook file dengan format <nama_assignment2.ipynb> yang berisi sebuah function untuk :\n",
    "  * Mereturn angka disuatu posisi berdasarkan bilangan pertama dari sebuah daftar angka-angka.\n",
    "  * Urutan posisi dimulai dari bilangan kedua.\n",
    "  * Jika bilangan pertama melebihi jumlah banyaknya daftar angka-angka, maka return **-1**.\n",
    "  * Input : daftar angka\n",
    "\n",
    "| No | Input | Output |\n",
    "| - | - | - |\n",
    "| 1 | (3, 10, 20, 30, 40) | 40 |\n",
    "| 2 | (0, -10, 10)| -10 |\n",
    "| 3 | (1, 2, 300, 10) | 300 |\n",
    "| 4 | (100, 200, 300, -400) | -1 |\n",
    "| 5 | (4, 200, 300, -400) | -1 |\n",
    "\n",
    "\n",
    "2. Buat module Python bernama `rumus.py` yang berisi dua fungsi: satu untuk menghitung luas segitiga dan satu lagi untuk menghitung keliling segitiga. Gunakan module tersebut di notebook utama (pada soal no 1).\n",
    "\n",
    "Submit dilakukan dalam bentuk mengirimkan link github repository (public) ke google form."
   ]
  },
  {
   "cell_type": "code",
   "execution_count": null,
   "id": "4397ca89",
   "metadata": {},
   "outputs": [],
   "source": [
    "# jawaban no 1\n",
    "def urutan_posisi (numbers):\n",
    "\n",
    "    # Ambil bilangan pertama sebagai indeks\n",
    "    index = numbers[0]\n",
    "    index2 = max(numbers[1:], key=abs)  \n",
    "\n",
    "    # Cek apakah indeks valid\n",
    "    if index >= len(numbers):\n",
    "        return -1\n",
    "    else :\n",
    "    # Kembalikan angka pada indeks yang ditentukan\n",
    "        return index2\n",
    "\n",
    "# Contoh penggunaan\n",
    "print(urutan_posisi([3, 10, 20, 30, 40]))  # Output: 40\n",
    "print(urutan_posisi([0, -10, 10]))  # Output: -10\n",
    "print(urutan_posisi([1, 2, 300, 10]))  # Output: 300\n",
    "print(urutan_posisi([100, 200, 300, -400]))  # Output: -1\n",
    "print(urutan_posisi([4, 200, 300, -400]))  # Output: -1\n"
   ]
  },
  {
   "cell_type": "code",
   "execution_count": null,
   "id": "d899cad1",
   "metadata": {},
   "outputs": [],
   "source": [
    "#jawaban no 2\n",
    "\n",
    "import segitiga_siku \n",
    "alas = 5\n",
    "tinggi = 7\n",
    "\n",
    "print(f\"Luas Segitiga Siku-siku: [{segitiga_siku.luas_segitiga_siku(alas, tinggi)}]\")\n",
    "print(f\"Keliling Segitiga Siku-siku: [{segitiga_siku.keliling_segitiga_siku(alas, tinggi)}]\")\n",
    "\n",
    "\n"
   ]
  },
  {
   "cell_type": "code",
   "execution_count": null,
   "id": "58e8ea87",
   "metadata": {},
   "outputs": [],
   "source": []
  }
 ],
 "metadata": {
  "kernelspec": {
   "display_name": "Python 3",
   "language": "python",
   "name": "python3"
  },
  "language_info": {
   "codemirror_mode": {
    "name": "ipython",
    "version": 3
   },
   "file_extension": ".py",
   "mimetype": "text/x-python",
   "name": "python",
   "nbconvert_exporter": "python",
   "pygments_lexer": "ipython3",
   "version": "3.7.10"
  },
  "toc": {
   "base_numbering": 1,
   "nav_menu": {},
   "number_sections": true,
   "sideBar": true,
   "skip_h1_title": false,
   "title_cell": "Table of Contents",
   "title_sidebar": "Contents",
   "toc_cell": false,
   "toc_position": {},
   "toc_section_display": true,
   "toc_window_display": false
  }
 },
 "nbformat": 4,
 "nbformat_minor": 5
}
